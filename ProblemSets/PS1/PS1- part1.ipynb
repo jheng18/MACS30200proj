{
 "cells": [
  {
   "cell_type": "markdown",
   "metadata": {},
   "source": [
    "# MACS 30200\n",
    "\n",
    "PS1 Part 1\n",
    "\n",
    "Jie Heng\n",
    "\n",
    "4/15/2018"
   ]
  },
  {
   "cell_type": "markdown",
   "metadata": {},
   "source": [
    "## Part 1 "
   ]
  },
  {
   "cell_type": "markdown",
   "metadata": {},
   "source": [
    "###  1.1 \tDescribe how to access data, where it is stored, who curates it. Make sure to use the original source and curator in addition to the NBER site to which I have linked"
   ]
  },
  {
   "cell_type": "markdown",
   "metadata": {},
   "source": [
    "The data set is stored on the website of Chicago data portal in the catelog of health and human services, which\n",
    "is curated by the Chicago Department of Public Health. The data is derived from inspections of restaurants and other food establishments in Chicago from January 1, 2010 to the present. Inspections are performed by staff from the Chicago Department of Public Health’s Food Protection Program using a standardized procedure. The results of the inspection are inputted into a database, then reviewed and approved by a State of Illinois Licensed Environmental Health Practitioner (LEHP)."
   ]
  },
  {
   "cell_type": "markdown",
   "metadata": {},
   "source": [
    "### 1.2 Cite other key papers that have used this data."
   ]
  },
  {
   "cell_type": "markdown",
   "metadata": {},
   "source": [
    "Several studies utilized food inspection data of Chicago. Dworkin, Liu and their collegues (2012) studied the Spanish-speaking and English-speaking people's food safety knowlege, utilizing the food inspectation data to grade the local restaturants. Liu and Manes(2013) utilize the food inspectation data to study the food safety issue in surburban Chicago. In 2014, Liu, Manes and their colleagues analyzes the relations between restaurant's food safety score and restaurant's manager. Recently, Aavik, McBride and their collegues(2018) conducts a study using this data set to buid a Chicago’s food inspection forecasting model. "
   ]
  },
  {
   "cell_type": "markdown",
   "metadata": {},
   "source": [
    "### 1.3 Describe how the data were collected."
   ]
  },
  {
   "cell_type": "markdown",
   "metadata": {},
   "source": [
    "The Food Protection Division of the Chicago Department of Public Health (CDPH) is responsible for conducting food inspectation of restaurants in Chicago. The stuff of Chicago Department of Public Health’s Food Protection Program conducts inspectation of retail food establishments with CDPH's license in Chicago, such as restaurants, grocery stores, bakeries, convenience stores, hospitals, nursing homes, day care facilities, shelters, schools, and temporary food service events. Inspections focus on food handling practices, product temperatures, personal hygiene, facility maintenance, and pest control. The department operates under the ordinances of the City of Chicago’s Municipal Code, chapters 4-8, 7-38, 7-40, and 7-42 and the Chicago Board of Health Rules and Regulations. Stuff records the basic information of food establishments (address, name, license and type), inspectation results (risk score, whehter pass the inspectation and violation information) and some information of inspectation as well (inspectator's ID, the date and type of inspectation)."
   ]
  },
  {
   "cell_type": "markdown",
   "metadata": {},
   "source": [
    "### 1.4 Include a table that gives descriptive statistics for at least 8 key variables (you can do more)."
   ]
  },
  {
   "cell_type": "code",
   "execution_count": 3,
   "metadata": {},
   "outputs": [],
   "source": [
    "import numpy as np\n",
    "import pandas as pd\n",
    "import matplotlib.pyplot as plt\n",
    "%matplotlib inline"
   ]
  },
  {
   "cell_type": "code",
   "execution_count": 4,
   "metadata": {},
   "outputs": [],
   "source": [
    "data = pd.read_csv(\"Food_Inspections.csv\")\n",
    "food = data.dropna()\n",
    "col1 = ['Zip', 'Latitude', 'Longitude']\n",
    "col2 = ['Results', 'Inspection Type', 'Results', 'Violations', 'Risk']"
   ]
  },
  {
   "cell_type": "code",
   "execution_count": 5,
   "metadata": {},
   "outputs": [
    {
     "data": {
      "text/html": [
       "<div>\n",
       "<style scoped>\n",
       "    .dataframe tbody tr th:only-of-type {\n",
       "        vertical-align: middle;\n",
       "    }\n",
       "\n",
       "    .dataframe tbody tr th {\n",
       "        vertical-align: top;\n",
       "    }\n",
       "\n",
       "    .dataframe thead th {\n",
       "        text-align: right;\n",
       "    }\n",
       "</style>\n",
       "<table border=\"1\" class=\"dataframe\">\n",
       "  <thead>\n",
       "    <tr style=\"text-align: right;\">\n",
       "      <th></th>\n",
       "      <th>Zip</th>\n",
       "      <th>Latitude</th>\n",
       "      <th>Longitude</th>\n",
       "    </tr>\n",
       "  </thead>\n",
       "  <tbody>\n",
       "    <tr>\n",
       "      <th>count</th>\n",
       "      <td>131735.000000</td>\n",
       "      <td>131735.000000</td>\n",
       "      <td>131735.000000</td>\n",
       "    </tr>\n",
       "    <tr>\n",
       "      <th>mean</th>\n",
       "      <td>60629.421057</td>\n",
       "      <td>41.879988</td>\n",
       "      <td>-87.676971</td>\n",
       "    </tr>\n",
       "    <tr>\n",
       "      <th>std</th>\n",
       "      <td>19.129261</td>\n",
       "      <td>0.081867</td>\n",
       "      <td>0.059551</td>\n",
       "    </tr>\n",
       "    <tr>\n",
       "      <th>min</th>\n",
       "      <td>60501.000000</td>\n",
       "      <td>41.644670</td>\n",
       "      <td>-87.914428</td>\n",
       "    </tr>\n",
       "    <tr>\n",
       "      <th>25%</th>\n",
       "      <td>60614.000000</td>\n",
       "      <td>41.827328</td>\n",
       "      <td>-87.708230</td>\n",
       "    </tr>\n",
       "    <tr>\n",
       "      <th>50%</th>\n",
       "      <td>60625.000000</td>\n",
       "      <td>41.891279</td>\n",
       "      <td>-87.666865</td>\n",
       "    </tr>\n",
       "    <tr>\n",
       "      <th>75%</th>\n",
       "      <td>60643.000000</td>\n",
       "      <td>41.939829</td>\n",
       "      <td>-87.634799</td>\n",
       "    </tr>\n",
       "    <tr>\n",
       "      <th>max</th>\n",
       "      <td>60827.000000</td>\n",
       "      <td>42.021064</td>\n",
       "      <td>-87.525094</td>\n",
       "    </tr>\n",
       "  </tbody>\n",
       "</table>\n",
       "</div>"
      ],
      "text/plain": [
       "                 Zip       Latitude      Longitude\n",
       "count  131735.000000  131735.000000  131735.000000\n",
       "mean    60629.421057      41.879988     -87.676971\n",
       "std        19.129261       0.081867       0.059551\n",
       "min     60501.000000      41.644670     -87.914428\n",
       "25%     60614.000000      41.827328     -87.708230\n",
       "50%     60625.000000      41.891279     -87.666865\n",
       "75%     60643.000000      41.939829     -87.634799\n",
       "max     60827.000000      42.021064     -87.525094"
      ]
     },
     "execution_count": 5,
     "metadata": {},
     "output_type": "execute_result"
    }
   ],
   "source": [
    "food[col1].describe()"
   ]
  },
  {
   "cell_type": "code",
   "execution_count": 6,
   "metadata": {},
   "outputs": [
    {
     "data": {
      "text/html": [
       "<div>\n",
       "<style scoped>\n",
       "    .dataframe tbody tr th:only-of-type {\n",
       "        vertical-align: middle;\n",
       "    }\n",
       "\n",
       "    .dataframe tbody tr th {\n",
       "        vertical-align: top;\n",
       "    }\n",
       "\n",
       "    .dataframe thead th {\n",
       "        text-align: right;\n",
       "    }\n",
       "</style>\n",
       "<table border=\"1\" class=\"dataframe\">\n",
       "  <thead>\n",
       "    <tr style=\"text-align: right;\">\n",
       "      <th></th>\n",
       "      <th>Results</th>\n",
       "      <th>Inspection Type</th>\n",
       "      <th>Results</th>\n",
       "      <th>Violations</th>\n",
       "      <th>Risk</th>\n",
       "    </tr>\n",
       "  </thead>\n",
       "  <tbody>\n",
       "    <tr>\n",
       "      <th>count</th>\n",
       "      <td>131735</td>\n",
       "      <td>131735</td>\n",
       "      <td>131735</td>\n",
       "      <td>131735</td>\n",
       "      <td>131735</td>\n",
       "    </tr>\n",
       "    <tr>\n",
       "      <th>unique</th>\n",
       "      <td>6</td>\n",
       "      <td>57</td>\n",
       "      <td>6</td>\n",
       "      <td>130577</td>\n",
       "      <td>3</td>\n",
       "    </tr>\n",
       "    <tr>\n",
       "      <th>top</th>\n",
       "      <td>Pass</td>\n",
       "      <td>Canvass</td>\n",
       "      <td>Pass</td>\n",
       "      <td>18. NO EVIDENCE OF RODENT OR INSECT OUTER OPEN...</td>\n",
       "      <td>Risk 1 (High)</td>\n",
       "    </tr>\n",
       "    <tr>\n",
       "      <th>freq</th>\n",
       "      <td>86845</td>\n",
       "      <td>67335</td>\n",
       "      <td>86845</td>\n",
       "      <td>38</td>\n",
       "      <td>97600</td>\n",
       "    </tr>\n",
       "  </tbody>\n",
       "</table>\n",
       "</div>"
      ],
      "text/plain": [
       "       Results Inspection Type Results  \\\n",
       "count   131735          131735  131735   \n",
       "unique       6              57       6   \n",
       "top       Pass         Canvass    Pass   \n",
       "freq     86845           67335   86845   \n",
       "\n",
       "                                               Violations           Risk  \n",
       "count                                              131735         131735  \n",
       "unique                                             130577              3  \n",
       "top     18. NO EVIDENCE OF RODENT OR INSECT OUTER OPEN...  Risk 1 (High)  \n",
       "freq                                                   38          97600  "
      ]
     },
     "execution_count": 6,
     "metadata": {},
     "output_type": "execute_result"
    }
   ],
   "source": [
    "food[col2].describe()"
   ]
  },
  {
   "cell_type": "markdown",
   "metadata": {},
   "source": [
    "### 1.5 Include at least one key visualization of the data that exhibits an interesting characteristic."
   ]
  },
  {
   "cell_type": "code",
   "execution_count": 7,
   "metadata": {},
   "outputs": [
    {
     "data": {
      "text/plain": [
       "array(['Pass w/ Conditions', 'Pass', 'Fail', 'No Entry', 'Not Ready',\n",
       "       'Out of Business'], dtype=object)"
      ]
     },
     "execution_count": 7,
     "metadata": {},
     "output_type": "execute_result"
    }
   ],
   "source": [
    "food['Results'].unique()"
   ]
  },
  {
   "cell_type": "code",
   "execution_count": 8,
   "metadata": {},
   "outputs": [],
   "source": [
    "r = food['Results'].value_counts()"
   ]
  },
  {
   "cell_type": "code",
   "execution_count": 9,
   "metadata": {},
   "outputs": [
    {
     "data": {
      "image/png": "[encoded data removed]",
      "text/plain": [
       "<matplotlib.figure.Figure at 0x28a8002d080>"
      ]
     },
     "metadata": {},
     "output_type": "display_data"
    }
   ],
   "source": [
    "myresult = pd.Series(r)\n",
    "plt.figure(figsize=(10,8))\n",
    "plt.title('Figure1 Histgram of Results of Inspectation')\n",
    "plt.xlabel('results')\n",
    "plt.ylabel('amounts')\n",
    "plt.bar(range(len(myresult)), myresult.values, align='center')\n",
    "plt.xticks(range(len(myresult)), myresult.index.values, size='small')\n",
    "plt.show()"
   ]
  },
  {
   "cell_type": "markdown",
   "metadata": {},
   "source": [
    "From the histgram we know that the majority of food establishements pass the food inspectation"
   ]
  },
  {
   "cell_type": "markdown",
   "metadata": {},
   "source": [
    "### 1.6 Show at least one conditional (slice) description of the data (e.g., all variable descriptive statistics by nationality of survey respondent). This can be a table or visualization."
   ]
  },
  {
   "cell_type": "markdown",
   "metadata": {},
   "source": [
    "Here, I am curious the distributions of restaurants that pass the inspectation and fail the inspectations."
   ]
  },
  {
   "cell_type": "code",
   "execution_count": 10,
   "metadata": {},
   "outputs": [],
   "source": [
    "food_short = food[['Zip','Results']]\n",
    "filter1 = food_short['Results'] == 'Pass'\n",
    "filter2 = food_short['Results'] == 'Fail'\n",
    "mypass = food_short[filter1]\n",
    "myfail = food_short[filter2]\n",
    "final_pass = pd.DataFrame(mypass.groupby(['Zip']).count())\n",
    "final_fail = pd.DataFrame(myfail.groupby(['Zip']).count())\n",
    "final_pass.to_csv('pass.csv')\n",
    "final_fail.to_csv('fail.csv')"
   ]
  },
  {
   "cell_type": "markdown",
   "metadata": {},
   "source": [
    "The following is a geographic distribution map produced by 'pass.csv' using Tableau. It shows that there are more food establishements passed the inspections in the north of Chicago, especially in 60618, 60647,60614, 60657, 60639 and 60608."
   ]
  },
  {
   "cell_type": "markdown",
   "metadata": {},
   "source": [
    "<img src=\"pass.jpg\" width=\"500\">"
   ]
  },
  {
   "cell_type": "markdown",
   "metadata": {},
   "source": [
    "Using Tableau and 'fail.csv', I plot another geographic distribution of restaurants that failed the inspections by Zip codes. Failed restaurants are centered in the middle and north areas of Chicago. "
   ]
  },
  {
   "cell_type": "markdown",
   "metadata": {},
   "source": [
    "<img src=\"fail.jpg\" width=\"500\">"
   ]
  },
  {
   "cell_type": "markdown",
   "metadata": {},
   "source": [
    "### 1.7 The above requirements are the minimum. Feel free to go beyond these if you feel you can describe some interesting characteristics of the data."
   ]
  },
  {
   "cell_type": "code",
   "execution_count": 11,
   "metadata": {},
   "outputs": [],
   "source": [
    "food_geo = food[['Risk', 'Latitude', 'Longitude']]\n",
    "filterr1 = food_geo['Risk'] == 'Risk 1 (High)'\n",
    "filterr2 = food_geo['Risk'] == 'Risk 2 (Medium)'\n",
    "filterr3 = food_geo['Risk'] == 'Risk 3 (Low)'\n",
    "risk1 = food_geo[filterr1]\n",
    "risk2 = food_geo[filterr2]\n",
    "risk3 = food_geo[filterr3]\n",
    "risk1.to_csv('risk1.csv')\n",
    "risk2.to_csv('risk2.csv')\n",
    "risk3.to_csv('risk3.csv')"
   ]
  },
  {
   "cell_type": "markdown",
   "metadata": {},
   "source": [
    "<img src=\"risk.jpg\" width=\"700\">"
   ]
  },
  {
   "cell_type": "markdown",
   "metadata": {},
   "source": [
    "The above plot shows that the risk level for most restaurants is level 1, which might be a good news for residents. And the majority of restaurants that have risks are along the lakeshore and in the north of Chicago."
   ]
  }
 ],
 "metadata": {
  "kernelspec": {
   "display_name": "Python 3",
   "language": "python",
   "name": "python3"
  },
  "language_info": {
   "codemirror_mode": {
    "name": "ipython",
    "version": 3
   },
   "file_extension": ".py",
   "mimetype": "text/x-python",
   "name": "python",
   "nbconvert_exporter": "python",
   "pygments_lexer": "ipython3",
   "version": "3.6.4"
  }
 },
 "nbformat": 4,
 "nbformat_minor": 2
}
