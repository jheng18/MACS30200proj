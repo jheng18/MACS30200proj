{
 "cells": [
  {
   "cell_type": "markdown",
   "metadata": {},
   "source": [
    "# MACS 30200\n",
    "PS3\n",
    "\n",
    "Part 2\n",
    "\n",
    "Jie Heng\n",
    "\n",
    "5/16/2018"
   ]
  },
  {
   "cell_type": "code",
   "execution_count": 34,
   "metadata": {},
   "outputs": [],
   "source": [
    "# data\n",
    "from keras.datasets import mnist\n",
    "from keras.datasets import boston_housing\n",
    "# packages\n",
    "import matplotlib.pyplot as plt\n",
    "import numpy as np\n",
    "import random\n",
    "from keras import models\n",
    "# from keras.models import Sequential\n",
    "# from keras.layers import Dense\n",
    "from keras import layers\n",
    "# from keras.layers import Dropout\n",
    "from keras.utils import np_utils\n",
    "from keras.regularizers import l1, l2\n",
    "from keras.utils import to_categorical\n",
    "from sklearn.preprocessing import StandardScaler\n",
    "import random\n",
    "random.seed(1234)"
   ]
  },
  {
   "cell_type": "code",
   "execution_count": 2,
   "metadata": {},
   "outputs": [],
   "source": [
    "# import data\n",
    "from keras.datasets import boston_housing\n",
    "(train_data, train_targets), (test_data, test_targets) = boston_housing.load_data()\n",
    "\n",
    "# Normalize the data# Normal \n",
    "mean = train_data.mean(axis=0)\n",
    "train_data -= mean\n",
    "std = train_data.std(axis=0)\n",
    "train_data /= std \n",
    "\n",
    "test_data -= mean\n",
    "test_data /= std"
   ]
  },
  {
   "cell_type": "markdown",
   "metadata": {},
   "source": [
    "### Model1(book)"
   ]
  },
  {
   "cell_type": "code",
   "execution_count": 3,
   "metadata": {},
   "outputs": [],
   "source": [
    "# build a two layer model(model in book)\n",
    "def build_model():\n",
    "    model = models.Sequential()\n",
    "    model.add(layers.Dense(64, activation='relu', input_shape=(train_data.shape[1],)))\n",
    "    model.add(layers.Dense(64, activation='relu'))\n",
    "    model.add(layers.Dense(1))\n",
    "    model.compile(optimizer='rmsprop', loss='mse', metrics=['mse'])\n",
    "    return model"
   ]
  },
  {
   "cell_type": "code",
   "execution_count": 6,
   "metadata": {},
   "outputs": [],
   "source": [
    "k = 10\n",
    "num_val_samples = len(train_data) // k\n",
    "num_epochs = 100\n",
    "all_scores = []"
   ]
  },
  {
   "cell_type": "code",
   "execution_count": 7,
   "metadata": {},
   "outputs": [
    {
     "name": "stdout",
     "output_type": "stream",
     "text": [
      "fold 0 is processing\n",
      "fold 1 is processing\n",
      "fold 2 is processing\n",
      "fold 3 is processing\n",
      "fold 4 is processing\n",
      "fold 5 is processing\n",
      "fold 6 is processing\n",
      "fold 7 is processing\n",
      "fold 8 is processing\n",
      "fold 9 is processing\n"
     ]
    }
   ],
   "source": [
    "for i in range(k):\n",
    "    print('fold', i,'is processing')\n",
    "    val_data = train_data[i * num_val_samples: (i + 1) * num_val_samples]\n",
    "    val_targets = train_targets[i * num_val_samples: (i + 1) * num_val_samples]\n",
    "    \n",
    "    partial_train_data = np.concatenate(\n",
    "        [train_data[:i * num_val_samples],train_data[(i + 1) * num_val_samples:]],axis=0)\n",
    "    partial_train_targets = np.concatenate(\n",
    "        [train_targets[:i * num_val_samples], train_targets[(i + 1) * num_val_samples:]], axis=0)\n",
    "    model = build_model()\n",
    "    history = model.fit(partial_train_data, partial_train_targets, epochs=num_epochs, batch_size=1, verbose=0)\n",
    "    \n",
    "    mse = history.history['mean_squared_error']    \n",
    "    all_scores.append(mse)"
   ]
  },
  {
   "cell_type": "code",
   "execution_count": 19,
   "metadata": {},
   "outputs": [
    {
     "name": "stdout",
     "output_type": "stream",
     "text": [
      "Base model 8.392179668827088\n"
     ]
    }
   ],
   "source": [
    "print('Base model', np.mean(all_scores))"
   ]
  },
  {
   "cell_type": "code",
   "execution_count": 15,
   "metadata": {},
   "outputs": [
    {
     "data": {
      "image/png": "[encoded data removed]",
      "text/plain": [
       "<matplotlib.figure.Figure at 0x14f22510fd0>"
      ]
     },
     "metadata": {},
     "output_type": "display_data"
    }
   ],
   "source": [
    "average_mse_m1  = [np.mean([x[i] for x in all_scores]) for i in range(num_epochs)]\n",
    "plt.plot(range(1, len(average_mse_m1) + 1), average_mse_m1)\n",
    "plt.title('Figure1 Average MSE for Base Model')\n",
    "plt.xlabel('Epochs')\n",
    "plt.ylabel('Validation MSE')\n",
    "plt.show()"
   ]
  },
  {
   "cell_type": "markdown",
   "metadata": {},
   "source": [
    "### Model2 (Drop)"
   ]
  },
  {
   "cell_type": "code",
   "execution_count": 16,
   "metadata": {},
   "outputs": [],
   "source": [
    "def build_m2 ():\n",
    "    model = models.Sequential()\n",
    "    model.add(layers.Dense(64, activation='relu', input_shape=(train_data.shape[1],)))\n",
    "    model.add(layers.Dropout(0.5))\n",
    "    model.add(layers.Dense(64, activation='relu'))\n",
    "    model.add(layers.Dropout(0.5))\n",
    "    model.add(layers.Dense(1))\n",
    "    model.compile(optimizer='rmsprop', loss='mse', metrics=['mse'])\n",
    "    return model"
   ]
  },
  {
   "cell_type": "code",
   "execution_count": 17,
   "metadata": {},
   "outputs": [
    {
     "name": "stdout",
     "output_type": "stream",
     "text": [
      "fold 0 is processing\n",
      "fold 1 is processing\n",
      "fold 2 is processing\n",
      "fold 3 is processing\n",
      "fold 4 is processing\n",
      "fold 5 is processing\n",
      "fold 6 is processing\n",
      "fold 7 is processing\n",
      "fold 8 is processing\n",
      "fold 9 is processing\n"
     ]
    }
   ],
   "source": [
    "all_scores2 = []\n",
    "for i in range(k):\n",
    "    print('fold', i,'is processing')\n",
    "    val_data = train_data[i * num_val_samples: (i + 1) * num_val_samples]\n",
    "    val_targets = train_targets[i * num_val_samples: (i + 1) * num_val_samples]\n",
    "\n",
    "    partial_train_data = np.concatenate(\n",
    "        [train_data[:i * num_val_samples],train_data[(i + 1) * num_val_samples:]],axis=0)\n",
    "    partial_train_targets = np.concatenate(\n",
    "        [train_targets[:i * num_val_samples], train_targets[(i + 1) * num_val_samples:]], axis=0)\n",
    "    model2 = build_m2()\n",
    "    history2 = model2.fit(partial_train_data, partial_train_targets, epochs=num_epochs, batch_size=1, verbose=0)\n",
    "    \n",
    "    mse = history2.history['mean_squared_error']    \n",
    "    all_scores2.append(mse)"
   ]
  },
  {
   "cell_type": "code",
   "execution_count": 18,
   "metadata": {},
   "outputs": [
    {
     "name": "stdout",
     "output_type": "stream",
     "text": [
      "Drop out model 38.081339103650635\n"
     ]
    }
   ],
   "source": [
    "print('Drop out model', np.mean(all_scores2))"
   ]
  },
  {
   "cell_type": "code",
   "execution_count": 26,
   "metadata": {},
   "outputs": [
    {
     "data": {
      "image/png": "[encoded data removed]",
      "text/plain": [
       "<matplotlib.figure.Figure at 0x14f2741d7f0>"
      ]
     },
     "metadata": {},
     "output_type": "display_data"
    }
   ],
   "source": [
    "average_mse_m2  = [np.mean([x[i] for x in all_scores2]) for i in range(num_epochs)]\n",
    "plt.plot(range(1, len(average_mse_m1) + 1), average_mse_m1)\n",
    "plt.plot(range(1, len(average_mse_m2) + 1), average_mse_m2)\n",
    "plt.title('Figure2 Average MSE for Models(1-2)')\n",
    "plt.xlabel('Epochs')\n",
    "plt.ylabel('Validation MSE')\n",
    "plt.legend(['Base', 'Drop'])\n",
    "plt.show()"
   ]
  },
  {
   "cell_type": "markdown",
   "metadata": {},
   "source": [
    "### Model3 (l2)"
   ]
  },
  {
   "cell_type": "code",
   "execution_count": 68,
   "metadata": {},
   "outputs": [],
   "source": [
    "def build_m3():\n",
    "    model = models.Sequential()\n",
    "    model.add(layers.Dense(64, activation='relu', input_shape=(train_data.shape[1],),kernel_regularizer=l2(0.001)))\n",
    "    model.add(layers.Dense(64, activation='relu', kernel_regularizer=l2(0.001)))\n",
    "    model.add(layers.Dense(1))\n",
    "    model.compile(optimizer='rmsprop', loss='mse', metrics=['mse'])\n",
    "    return model"
   ]
  },
  {
   "cell_type": "code",
   "execution_count": 70,
   "metadata": {},
   "outputs": [
    {
     "name": "stdout",
     "output_type": "stream",
     "text": [
      "fold 0 is processing\n",
      "fold 1 is processing\n",
      "fold 2 is processing\n",
      "fold 3 is processing\n",
      "fold 4 is processing\n",
      "fold 5 is processing\n",
      "fold 6 is processing\n",
      "fold 7 is processing\n",
      "fold 8 is processing\n",
      "fold 9 is processing\n"
     ]
    }
   ],
   "source": [
    "all_scores3 = []\n",
    "for i in range(k):\n",
    "    print('fold', i,'is processing')\n",
    "    val_data = train_data[i * num_val_samples: (i + 1) * num_val_samples]\n",
    "    val_targets = train_targets[i * num_val_samples: (i + 1) * num_val_samples]\n",
    "    \n",
    "    partial_train_data = np.concatenate(\n",
    "        [train_data[:i * num_val_samples],train_data[(i + 1) * num_val_samples:]],axis=0)\n",
    "    partial_train_targets = np.concatenate(\n",
    "        [train_targets[:i * num_val_samples], train_targets[(i + 1) * num_val_samples:]], axis=0)\n",
    "    model3 = build_m3()\n",
    "    history3 = model3.fit(partial_train_data, partial_train_targets, epochs=num_epochs, batch_size=1, verbose=0)\n",
    "    mse = history3.history['mean_squared_error']    \n",
    "    all_scores3.append(mse)"
   ]
  },
  {
   "cell_type": "code",
   "execution_count": 72,
   "metadata": {},
   "outputs": [
    {
     "name": "stdout",
     "output_type": "stream",
     "text": [
      "L2 model 8.483422913221764\n"
     ]
    }
   ],
   "source": [
    "print('L2 model', np.mean(all_scores3))"
   ]
  },
  {
   "cell_type": "code",
   "execution_count": 73,
   "metadata": {
    "scrolled": true
   },
   "outputs": [
    {
     "data": {
      "image/png": "[encoded data removed]",
      "text/plain": [
       "<matplotlib.figure.Figure at 0x14f35870198>"
      ]
     },
     "metadata": {},
     "output_type": "display_data"
    }
   ],
   "source": [
    "average_mse_m3  = [np.mean([x[i] for x in all_scores3]) for i in range(num_epochs)]\n",
    "plt.plot(range(1, len(average_mse_m1) + 1), average_mse_m1)\n",
    "plt.plot(range(1, len(average_mse_m2) + 1), average_mse_m2)\n",
    "plt.plot(range(1, len(average_mse_m3) + 1), average_mse_m3)\n",
    "plt.title('Figure3 Average MSE for Models(1-3)')\n",
    "plt.xlabel('Epochs')\n",
    "plt.ylabel('Validation MSE')\n",
    "plt.legend(['Base', 'Drop', 'L2'])\n",
    "plt.show()"
   ]
  },
  {
   "cell_type": "markdown",
   "metadata": {},
   "source": [
    "### Model 4 (l1)"
   ]
  },
  {
   "cell_type": "code",
   "execution_count": 74,
   "metadata": {},
   "outputs": [],
   "source": [
    "def build_m4():\n",
    "    model = models.Sequential()\n",
    "    model.add(layers.Dense(64, activation='relu', input_shape=(train_data.shape[1],),kernel_regularizer=l1(0.001)))\n",
    "    model.add(layers.Dense(64, activation='relu', kernel_regularizer=l1(0.001)))\n",
    "    model.add(layers.Dense(1))\n",
    "    model.compile(optimizer='rmsprop', loss='mse', metrics=['mse'])\n",
    "    return model"
   ]
  },
  {
   "cell_type": "code",
   "execution_count": 75,
   "metadata": {},
   "outputs": [
    {
     "name": "stdout",
     "output_type": "stream",
     "text": [
      "fold 0 is processing\n",
      "fold 1 is processing\n",
      "fold 2 is processing\n",
      "fold 3 is processing\n",
      "fold 4 is processing\n",
      "fold 5 is processing\n",
      "fold 6 is processing\n",
      "fold 7 is processing\n",
      "fold 8 is processing\n",
      "fold 9 is processing\n"
     ]
    }
   ],
   "source": [
    "all_scores4 = []\n",
    "for i in range(k):\n",
    "    print('fold', i,'is processing')\n",
    "    val_data = train_data[i * num_val_samples: (i + 1) * num_val_samples]\n",
    "    val_targets = train_targets[i * num_val_samples: (i + 1) * num_val_samples]\n",
    "    \n",
    "    partial_train_data = np.concatenate(\n",
    "        [train_data[:i * num_val_samples],train_data[(i + 1) * num_val_samples:]],axis=0)\n",
    "    partial_train_targets = np.concatenate(\n",
    "        [train_targets[:i * num_val_samples], train_targets[(i + 1) * num_val_samples:]], axis=0)\n",
    "    model4 = build_m4()\n",
    "    history4 = model4.fit(partial_train_data, partial_train_targets, epochs=num_epochs, batch_size=1, verbose=0)\n",
    "    \n",
    "    mse = history4.history['mean_squared_error']    \n",
    "    all_scores4.append(mse)"
   ]
  },
  {
   "cell_type": "code",
   "execution_count": 76,
   "metadata": {},
   "outputs": [
    {
     "name": "stdout",
     "output_type": "stream",
     "text": [
      "L1 model 8.74756530968856\n"
     ]
    }
   ],
   "source": [
    "print('L1 model', np.mean(all_scores4))"
   ]
  },
  {
   "cell_type": "code",
   "execution_count": 77,
   "metadata": {
    "scrolled": true
   },
   "outputs": [
    {
     "data": {
      "image/png": "[encoded data removed]",
      "text/plain": [
       "<matplotlib.figure.Figure at 0x14f3b87fb00>"
      ]
     },
     "metadata": {},
     "output_type": "display_data"
    }
   ],
   "source": [
    "average_mse_m4  = [np.mean([x[i] for x in all_scores4]) for i in range(num_epochs)]\n",
    "plt.plot(range(1, len(average_mse_m1) + 1), average_mse_m1)\n",
    "plt.plot(range(1, len(average_mse_m2) + 1), average_mse_m2)\n",
    "plt.plot(range(1, len(average_mse_m3) + 1), average_mse_m3)\n",
    "plt.plot(range(1, len(average_mse_m4) + 1), average_mse_m4)\n",
    "plt.title('Figure4 Average MSE for Models(1-4)')\n",
    "plt.xlabel('Epochs')\n",
    "plt.ylabel('Validation MSE')\n",
    "plt.legend(['Base', 'Drop', 'L2','L1'])\n",
    "plt.show()"
   ]
  },
  {
   "cell_type": "markdown",
   "metadata": {},
   "source": [
    "Apparently, drop out model is the worst among the four models.Next step, Let's do more things to compare Base, L1 and L2"
   ]
  },
  {
   "cell_type": "code",
   "execution_count": 78,
   "metadata": {},
   "outputs": [],
   "source": [
    "def smooth_curve(points, factor=0.9):\n",
    "    smoothed_points = []\n",
    "    for point in points:\n",
    "        if smoothed_points:\n",
    "            previous = smoothed_points[-1]\n",
    "            smoothed_points.append(previous * factor + point * (1 - factor))\n",
    "        else:\n",
    "            smoothed_points.append(point)\n",
    "    \n",
    "    return smoothed_points"
   ]
  },
  {
   "cell_type": "code",
   "execution_count": 80,
   "metadata": {},
   "outputs": [
    {
     "data": {
      "image/png": "[encoded data removed]",
      "text/plain": [
       "<matplotlib.figure.Figure at 0x14f4137ac18>"
      ]
     },
     "metadata": {},
     "output_type": "display_data"
    }
   ],
   "source": [
    "smooth_base= smooth_curve(average_mse_m1[10:])\n",
    "smooth_l2= smooth_curve(average_mse_m3[10:])\n",
    "smooth_l1= smooth_curve(average_mse_m4[10:])\n",
    "plt.plot(range(1, len(smooth_base) + 1), smooth_base)\n",
    "plt.plot(range(1, len(smooth_l2) + 1), smooth_l2)\n",
    "plt.plot(range(1, len(smooth_l1) + 1), smooth_l1)\n",
    "plt.xlabel('Epochs')\n",
    "plt.ylabel('Smooth')\n",
    "plt.legend(['Base','Drop','L2','L1'])\n",
    "plt.show()"
   ]
  },
  {
   "cell_type": "markdown",
   "metadata": {},
   "source": [
    "Thus, I choose Base model as my final model."
   ]
  },
  {
   "cell_type": "markdown",
   "metadata": {},
   "source": [
    "### Final Model"
   ]
  },
  {
   "cell_type": "code",
   "execution_count": 83,
   "metadata": {},
   "outputs": [],
   "source": [
    "c = history.history['mean_squared_error'].index(min(history.history['mean_squared_error']))+1"
   ]
  },
  {
   "cell_type": "code",
   "execution_count": 87,
   "metadata": {},
   "outputs": [
    {
     "name": "stdout",
     "output_type": "stream",
     "text": [
      "102/102 [==============================] - 1s 6ms/step\n"
     ]
    }
   ],
   "source": [
    "model = build_model()\n",
    "model.fit(train_data, train_targets, epochs=c, batch_size=5, verbose=0)\n",
    "test_mse_score, test_mae_score = model.evaluate(test_data, test_targets)"
   ]
  },
  {
   "cell_type": "code",
   "execution_count": 88,
   "metadata": {},
   "outputs": [
    {
     "data": {
      "text/plain": [
       "10.812836216945275"
      ]
     },
     "execution_count": 88,
     "metadata": {},
     "output_type": "execute_result"
    }
   ],
   "source": [
    "test_mse_score"
   ]
  },
  {
   "cell_type": "code",
   "execution_count": null,
   "metadata": {},
   "outputs": [],
   "source": []
  }
 ],
 "metadata": {
  "kernelspec": {
   "display_name": "Python 3",
   "language": "python",
   "name": "python3"
  },
  "language_info": {
   "codemirror_mode": {
    "name": "ipython",
    "version": 3
   },
   "file_extension": ".py",
   "mimetype": "text/x-python",
   "name": "python",
   "nbconvert_exporter": "python",
   "pygments_lexer": "ipython3",
   "version": "3.6.4"
  }
 },
 "nbformat": 4,
 "nbformat_minor": 2
}
