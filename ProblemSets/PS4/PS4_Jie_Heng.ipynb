{
 "cells": [
  {
   "cell_type": "markdown",
   "metadata": {},
   "source": [
    "# MACS 30200\n",
    "## PS4\n",
    "\n",
    "Jie Heng\n",
    "\n",
    "5/28/2018"
   ]
  },
  {
   "cell_type": "code",
   "execution_count": 2,
   "metadata": {},
   "outputs": [],
   "source": [
    "import numpy as np\n",
    "import matplotlib.pyplot as plt\n",
    "from matplotlib.ticker import MultipleLocator\n",
    "import numpy.linalg as LA\n",
    "import scipy.stats as sts\n",
    "import pandas as pd\n",
    "%matplotlib notebook"
   ]
  },
  {
   "cell_type": "markdown",
   "metadata": {},
   "source": [
    "## a"
   ]
  },
  {
   "cell_type": "code",
   "execution_count": 8,
   "metadata": {},
   "outputs": [],
   "source": [
    "T = 500\n",
    "sigma = 0.7\n",
    "unif_vec = sts.uniform.rvs(loc=0, scale=1, size=T,\n",
    "                           random_state=25)\n",
    "eps_vec = sts.norm.ppf(unif_vec, loc=0, scale=sigma)"
   ]
  },
  {
   "cell_type": "code",
   "execution_count": 10,
   "metadata": {},
   "outputs": [],
   "source": [
    "rho = 0.85\n",
    "mu= 11.4\n",
    "z = np.zeros(500)\n",
    "zt_ind = 1"
   ]
  },
  {
   "cell_type": "code",
   "execution_count": 11,
   "metadata": {},
   "outputs": [],
   "source": [
    "for i in range(T):\n",
    "    if i == 0:\n",
    "        z[i] = rho\n",
    "    else:\n",
    "        z[i] = rho * z[i-1] + (1- rho) * mu + eps_vec[i]"
   ]
  },
  {
   "cell_type": "code",
   "execution_count": 81,
   "metadata": {},
   "outputs": [
    {
     "data": {
      "image/png": "[encoded data removed]",
      "text/plain": [
       "<matplotlib.figure.Figure at 0x1b8628f9fd0>"
      ]
     },
     "metadata": {},
     "output_type": "display_data"
    }
   ],
   "source": [
    "plt.plot(z[:100])\n",
    "plt.title(\"Figure1 First 100 Observations of the Resulting Simulated Time Series\", fontsize= 15)\n",
    "plt.xlabel('Period')\n",
    "plt.ylabel('Zt')\n",
    "plt.show()"
   ]
  },
  {
   "cell_type": "markdown",
   "metadata": {},
   "source": [
    "## b"
   ]
  },
  {
   "cell_type": "code",
   "execution_count": 18,
   "metadata": {},
   "outputs": [],
   "source": [
    "z_vals = np.linspace(mu-3*sigma, mu+3*sigma, 5)"
   ]
  },
  {
   "cell_type": "code",
   "execution_count": 19,
   "metadata": {},
   "outputs": [
    {
     "data": {
      "text/plain": [
       "array([ 9.3 , 10.35, 11.4 , 12.45, 13.5 ])"
      ]
     },
     "execution_count": 19,
     "metadata": {},
     "output_type": "execute_result"
    }
   ],
   "source": [
    "z_vals"
   ]
  },
  {
   "cell_type": "code",
   "execution_count": 21,
   "metadata": {},
   "outputs": [
    {
     "name": "stdout",
     "output_type": "stream",
     "text": [
      "z_vals[2] should equal to mu, the statement is  True\n"
     ]
    }
   ],
   "source": [
    "print('z_vals[2] should equal to mu, the statement is ', z_vals[2]==mu)"
   ]
  },
  {
   "cell_type": "markdown",
   "metadata": {},
   "source": [
    "## c"
   ]
  },
  {
   "cell_type": "code",
   "execution_count": 22,
   "metadata": {},
   "outputs": [
    {
     "data": {
      "text/plain": [
       "array([ 9.825, 10.875, 11.925, 12.975])"
      ]
     },
     "execution_count": 22,
     "metadata": {},
     "output_type": "execute_result"
    }
   ],
   "source": [
    "z_cuts = 0.5 * z_vals[:-1] + 0.5 * z_vals[1:]\n",
    "z_cuts"
   ]
  },
  {
   "cell_type": "code",
   "execution_count": 27,
   "metadata": {},
   "outputs": [],
   "source": [
    "bins = np.digitize(z, z_cuts)\n",
    "P = np.zeros(shape=(5,5))"
   ]
  },
  {
   "cell_type": "code",
   "execution_count": 30,
   "metadata": {},
   "outputs": [],
   "source": [
    "for i in range(0,5):\n",
    "    for j in range(0,5):\n",
    "        count = 0\n",
    "        total = 0\n",
    "        for k in range(0,499):\n",
    "            curr = bins[k]\n",
    "            nxt = bins[k+1]\n",
    "            if curr == i and nxt == j:\n",
    "                count += 1\n",
    "            if curr == i:\n",
    "                total += 1\n",
    "        P[i][j] = count/total"
   ]
  },
  {
   "cell_type": "code",
   "execution_count": 38,
   "metadata": {},
   "outputs": [
    {
     "name": "stdout",
     "output_type": "stream",
     "text": [
      "The P matrix is:\n",
      "[[0.75757576 0.21212121 0.03030303 0.         0.        ]\n",
      " [0.09821429 0.51785714 0.33928571 0.04464286 0.        ]\n",
      " [0.03184713 0.22292994 0.47770701 0.23566879 0.03184713]\n",
      " [0.         0.04273504 0.34188034 0.5042735  0.11111111]\n",
      " [0.         0.         0.04255319 0.34042553 0.61702128]]\n"
     ]
    }
   ],
   "source": [
    "print('The P matrix is:')\n",
    "print(P)"
   ]
  },
  {
   "cell_type": "markdown",
   "metadata": {},
   "source": [
    "## d"
   ]
  },
  {
   "cell_type": "code",
   "execution_count": 57,
   "metadata": {},
   "outputs": [],
   "source": [
    "myvec = np.array([0, 0, 1, 0, 0]).reshape(5, 1)\n",
    "rv = np.dot(LA.matrix_power(P.T, 3),myvec)"
   ]
  },
  {
   "cell_type": "code",
   "execution_count": 52,
   "metadata": {},
   "outputs": [
    {
     "data": {
      "text/plain": [
       "array([[0.08215695],\n",
       "       [0.23362943],\n",
       "       [0.3564361 ],\n",
       "       [0.24976847],\n",
       "       [0.07800906]])"
      ]
     },
     "execution_count": 52,
     "metadata": {},
     "output_type": "execute_result"
    }
   ],
   "source": [
    "rv"
   ]
  },
  {
   "cell_type": "code",
   "execution_count": 50,
   "metadata": {},
   "outputs": [
    {
     "name": "stdout",
     "output_type": "stream",
     "text": [
      "The probability is 0.07800905865368546\n"
     ]
    }
   ],
   "source": [
    "print('The probability is', rv[4][0])"
   ]
  },
  {
   "cell_type": "markdown",
   "metadata": {},
   "source": [
    "## e"
   ]
  },
  {
   "cell_type": "code",
   "execution_count": 63,
   "metadata": {},
   "outputs": [],
   "source": [
    "eigvals, eigvecs = LA.eig(P.T)\n",
    "eigvec = eigvecs[:, 1] / eigvecs[:, 1].sum()\n",
    "stationary = eigvec"
   ]
  },
  {
   "cell_type": "code",
   "execution_count": 64,
   "metadata": {},
   "outputs": [
    {
     "name": "stdout",
     "output_type": "stream",
     "text": [
      "The stationary distribution of Zt is\n",
      "[0.13226453 0.2244489  0.31462926 0.23446894 0.09418838]\n"
     ]
    }
   ],
   "source": [
    "print('The stationary distribution of Zt is')\n",
    "print(stationary)"
   ]
  },
  {
   "cell_type": "markdown",
   "metadata": {},
   "source": [
    "## f"
   ]
  },
  {
   "cell_type": "code",
   "execution_count": 65,
   "metadata": {},
   "outputs": [],
   "source": [
    "z_0 = mu\n",
    "x_vec = np.zeros(T)\n",
    "x_t = z_0\n",
    "xt_ind = 1"
   ]
  },
  {
   "cell_type": "code",
   "execution_count": 78,
   "metadata": {},
   "outputs": [],
   "source": [
    "for t_ind in range(T):\n",
    "    xtp1_ind = \\\n",
    "        np.argwhere(unif_vec[t_ind] <= np.cumsum(P[xt_ind, :])).min()\n",
    "    x_tp1 = z_vals[xtp1_ind]\n",
    "    x_vec[t_ind] = x_tp1\n",
    "    \n",
    "    x_t = x_tp1\n",
    "    xt_ind = xtp1_ind"
   ]
  },
  {
   "cell_type": "code",
   "execution_count": 82,
   "metadata": {},
   "outputs": [
    {
     "data": {
      "image/png": "[encoded data removed]",
      "text/plain": [
       "<matplotlib.figure.Figure at 0x1b862a1b2b0>"
      ]
     },
     "metadata": {},
     "output_type": "display_data"
    }
   ],
   "source": [
    "plt.plot(x_vec, color='b')\n",
    "plt.plot(z, color = 'y')\n",
    "plt.title('Figure2 Markov Simulated Time Series vs. Actual Time Series', fontsize= 15)\n",
    "plt.xlabel('Period')\n",
    "plt.ylabel('Z_t')\n",
    "plt.legend(['Simulated', 'Continuous'])\n",
    "plt.show()"
   ]
  },
  {
   "cell_type": "code",
   "execution_count": null,
   "metadata": {},
   "outputs": [],
   "source": []
  }
 ],
 "metadata": {
  "kernelspec": {
   "display_name": "Python 3",
   "language": "python",
   "name": "python3"
  },
  "language_info": {
   "codemirror_mode": {
    "name": "ipython",
    "version": 3
   },
   "file_extension": ".py",
   "mimetype": "text/x-python",
   "name": "python",
   "nbconvert_exporter": "python",
   "pygments_lexer": "ipython3",
   "version": "3.6.4"
  }
 },
 "nbformat": 4,
 "nbformat_minor": 2
}
